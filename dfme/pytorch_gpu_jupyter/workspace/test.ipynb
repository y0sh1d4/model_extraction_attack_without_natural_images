{
 "cells": [
  {
   "cell_type": "code",
   "execution_count": null,
   "metadata": {},
   "outputs": [],
   "source": [
    "# !pip install onnx2torch"
   ]
  },
  {
   "cell_type": "code",
   "execution_count": 2,
   "metadata": {},
   "outputs": [],
   "source": [
    "import torch\n",
    "import torchvision\n",
    "from onnx2torch import convert\n",
    "import numpy as np\n",
    "import os"
   ]
  },
  {
   "cell_type": "code",
   "execution_count": 2,
   "metadata": {},
   "outputs": [],
   "source": [
    "# Path to ONNX model\n",
    "onnx_model_path = './medium.onnx'\n",
    "# You can pass the path to the onnx model to convert it or...\n",
    "torch_model = convert(onnx_model_path)"
   ]
  },
  {
   "cell_type": "code",
   "execution_count": 3,
   "metadata": {},
   "outputs": [
    {
     "name": "stdout",
     "output_type": "stream",
     "text": [
      "Downloading http://yann.lecun.com/exdb/mnist/train-images-idx3-ubyte.gz\n",
      "Downloading http://yann.lecun.com/exdb/mnist/train-images-idx3-ubyte.gz to ./data/MNIST/raw/train-images-idx3-ubyte.gz\n"
     ]
    },
    {
     "data": {
      "application/vnd.jupyter.widget-view+json": {
       "model_id": "f05096a3107b46cd995a0adeaf7d5dce",
       "version_major": 2,
       "version_minor": 0
      },
      "text/plain": [
       "  0%|          | 0/9912422 [00:00<?, ?it/s]"
      ]
     },
     "metadata": {},
     "output_type": "display_data"
    },
    {
     "name": "stdout",
     "output_type": "stream",
     "text": [
      "Extracting ./data/MNIST/raw/train-images-idx3-ubyte.gz to ./data/MNIST/raw\n",
      "\n",
      "Downloading http://yann.lecun.com/exdb/mnist/train-labels-idx1-ubyte.gz\n",
      "Downloading http://yann.lecun.com/exdb/mnist/train-labels-idx1-ubyte.gz to ./data/MNIST/raw/train-labels-idx1-ubyte.gz\n"
     ]
    },
    {
     "data": {
      "application/vnd.jupyter.widget-view+json": {
       "model_id": "c36522b72d9842a6aa893975c1659b56",
       "version_major": 2,
       "version_minor": 0
      },
      "text/plain": [
       "  0%|          | 0/28881 [00:00<?, ?it/s]"
      ]
     },
     "metadata": {},
     "output_type": "display_data"
    },
    {
     "name": "stdout",
     "output_type": "stream",
     "text": [
      "Extracting ./data/MNIST/raw/train-labels-idx1-ubyte.gz to ./data/MNIST/raw\n",
      "\n",
      "Downloading http://yann.lecun.com/exdb/mnist/t10k-images-idx3-ubyte.gz\n",
      "Downloading http://yann.lecun.com/exdb/mnist/t10k-images-idx3-ubyte.gz to ./data/MNIST/raw/t10k-images-idx3-ubyte.gz\n"
     ]
    },
    {
     "data": {
      "application/vnd.jupyter.widget-view+json": {
       "model_id": "00d68f407b4f4ae2b0a0fb7ef75a0b6b",
       "version_major": 2,
       "version_minor": 0
      },
      "text/plain": [
       "  0%|          | 0/1648877 [00:00<?, ?it/s]"
      ]
     },
     "metadata": {},
     "output_type": "display_data"
    },
    {
     "name": "stdout",
     "output_type": "stream",
     "text": [
      "Extracting ./data/MNIST/raw/t10k-images-idx3-ubyte.gz to ./data/MNIST/raw\n",
      "\n",
      "Downloading http://yann.lecun.com/exdb/mnist/t10k-labels-idx1-ubyte.gz\n",
      "Downloading http://yann.lecun.com/exdb/mnist/t10k-labels-idx1-ubyte.gz to ./data/MNIST/raw/t10k-labels-idx1-ubyte.gz\n"
     ]
    },
    {
     "data": {
      "application/vnd.jupyter.widget-view+json": {
       "model_id": "e6b7da14ec39491f97271e75d4f380b0",
       "version_major": 2,
       "version_minor": 0
      },
      "text/plain": [
       "  0%|          | 0/4542 [00:00<?, ?it/s]"
      ]
     },
     "metadata": {},
     "output_type": "display_data"
    },
    {
     "name": "stdout",
     "output_type": "stream",
     "text": [
      "Extracting ./data/MNIST/raw/t10k-labels-idx1-ubyte.gz to ./data/MNIST/raw\n",
      "\n"
     ]
    }
   ],
   "source": [
    "transform = torchvision.transforms.Compose([torchvision.transforms.ToTensor()])\n",
    "test_ds = torchvision.datasets.MNIST('./data', train=False, transform=transform, download=True)"
   ]
  },
  {
   "cell_type": "code",
   "execution_count": 7,
   "metadata": {},
   "outputs": [],
   "source": [
    "test_dl = torch.utils.data.DataLoader(\n",
    "    test_ds,     \n",
    "    batch_size = 512,\n",
    "    shuffle = False)"
   ]
  },
  {
   "cell_type": "code",
   "execution_count": 12,
   "metadata": {},
   "outputs": [],
   "source": [
    "device = 'cuda' if torch.cuda.is_available() else 'cpu'\n",
    "model = torch_model.to(device)\n",
    "predicts = []\n",
    "labels = []\n",
    "for batch in test_dl:\n",
    "    y = model(batch[0].to(device)).to('cpu').detach().numpy()\n",
    "    t = batch[1].numpy()\n",
    "    predicts.append(np.argmax(y, axis=1))\n",
    "    labels.append(t)"
   ]
  },
  {
   "cell_type": "code",
   "execution_count": 18,
   "metadata": {},
   "outputs": [],
   "source": [
    "predicts = np.concatenate(predicts, axis=0)\n",
    "labels = np.concatenate(labels, axis=0)"
   ]
  },
  {
   "cell_type": "code",
   "execution_count": 19,
   "metadata": {},
   "outputs": [
    {
     "data": {
      "text/plain": [
       "0.9903"
      ]
     },
     "execution_count": 19,
     "metadata": {},
     "output_type": "execute_result"
    }
   ],
   "source": [
    "np.mean(predicts==labels)"
   ]
  },
  {
   "cell_type": "code",
   "execution_count": 3,
   "metadata": {},
   "outputs": [],
   "source": [
    "model = torch.nn.Sequential(\n",
    "        torch.nn.Conv2d(\n",
    "            in_channels=1,\n",
    "            out_channels=16,\n",
    "            kernel_size=3,\n",
    "            stride=1,\n",
    "            padding=1,\n",
    "            ),\n",
    "        torch.nn.ReLU(),\n",
    "        torch.nn.MaxPool2d(\n",
    "            kernel_size=2,\n",
    "            ),\n",
    "        torch.nn.Conv2d(\n",
    "            in_channels=16,\n",
    "            out_channels=16,\n",
    "            kernel_size=3,\n",
    "            stride=1,\n",
    "            padding=1,\n",
    "            ),\n",
    "        torch.nn.ReLU(),\n",
    "        torch.nn.MaxPool2d(\n",
    "            kernel_size=2,\n",
    "            ),\n",
    "        torch.nn.Conv2d(\n",
    "            in_channels=16,\n",
    "            out_channels=16,\n",
    "            kernel_size=3,\n",
    "            stride=1,\n",
    "            padding=1,\n",
    "            ),\n",
    "        # 7*7*16=784\n",
    "        torch.nn.Flatten(),\n",
    "        torch.nn.Linear(7*7*16, 256),\n",
    "        torch.nn.ReLU(),\n",
    "        torch.nn.Linear(256, 10),\n",
    "    )"
   ]
  },
  {
   "cell_type": "code",
   "execution_count": 6,
   "metadata": {},
   "outputs": [
    {
     "data": {
      "text/plain": [
       "<All keys matched successfully>"
      ]
     },
     "execution_count": 6,
     "metadata": {},
     "output_type": "execute_result"
    }
   ],
   "source": [
    "p = os.path.join('datafree-model-extraction', 'dfme', 'checkpoint', 'student_debug', 'mnist-medium.pt')\n",
    "model.load_state_dict(torch.load(p))"
   ]
  },
  {
   "cell_type": "code",
   "execution_count": 7,
   "metadata": {},
   "outputs": [
    {
     "name": "stdout",
     "output_type": "stream",
     "text": [
      "graph(%input.1 : Float(1, 1, 28, 28, strides=[784, 784, 28, 1], requires_grad=0, device=cpu),\n",
      "      %0.weight : Float(16, 1, 3, 3, strides=[9, 9, 3, 1], requires_grad=1, device=cpu),\n",
      "      %0.bias : Float(16, strides=[1], requires_grad=1, device=cpu),\n",
      "      %3.weight : Float(16, 16, 3, 3, strides=[144, 9, 3, 1], requires_grad=1, device=cpu),\n",
      "      %3.bias : Float(16, strides=[1], requires_grad=1, device=cpu),\n",
      "      %6.weight : Float(16, 16, 3, 3, strides=[144, 9, 3, 1], requires_grad=1, device=cpu),\n",
      "      %6.bias : Float(16, strides=[1], requires_grad=1, device=cpu),\n",
      "      %8.weight : Float(256, 784, strides=[784, 1], requires_grad=1, device=cpu),\n",
      "      %8.bias : Float(256, strides=[1], requires_grad=1, device=cpu),\n",
      "      %10.weight : Float(10, 256, strides=[256, 1], requires_grad=1, device=cpu),\n",
      "      %10.bias : Float(10, strides=[1], requires_grad=1, device=cpu)):\n",
      "  %input : Float(1, 16, 28, 28, strides=[12544, 784, 28, 1], requires_grad=0, device=cpu) = onnx::Conv[dilations=[1, 1], group=1, kernel_shape=[3, 3], pads=[1, 1, 1, 1], strides=[1, 1]](%input.1, %0.weight, %0.bias) # /opt/conda/lib/python3.8/site-packages/torch/nn/modules/conv.py:443:0\n",
      "  %12 : Float(1, 16, 28, 28, strides=[12544, 784, 28, 1], requires_grad=1, device=cpu) = onnx::Relu(%input) # /opt/conda/lib/python3.8/site-packages/torch/nn/functional.py:1442:0\n",
      "  %input.4 : Float(1, 16, 14, 14, strides=[3136, 196, 14, 1], requires_grad=1, device=cpu) = onnx::MaxPool[kernel_shape=[2, 2], pads=[0, 0, 0, 0], strides=[2, 2]](%12) # /opt/conda/lib/python3.8/site-packages/torch/nn/functional.py:797:0\n",
      "  %input.8 : Float(1, 16, 14, 14, strides=[3136, 196, 14, 1], requires_grad=0, device=cpu) = onnx::Conv[dilations=[1, 1], group=1, kernel_shape=[3, 3], pads=[1, 1, 1, 1], strides=[1, 1]](%input.4, %3.weight, %3.bias) # /opt/conda/lib/python3.8/site-packages/torch/nn/modules/conv.py:443:0\n",
      "  %15 : Float(1, 16, 14, 14, strides=[3136, 196, 14, 1], requires_grad=1, device=cpu) = onnx::Relu(%input.8) # /opt/conda/lib/python3.8/site-packages/torch/nn/functional.py:1442:0\n",
      "  %input.12 : Float(1, 16, 7, 7, strides=[784, 49, 7, 1], requires_grad=1, device=cpu) = onnx::MaxPool[kernel_shape=[2, 2], pads=[0, 0, 0, 0], strides=[2, 2]](%15) # /opt/conda/lib/python3.8/site-packages/torch/nn/functional.py:797:0\n",
      "  %17 : Float(1, 16, 7, 7, strides=[784, 49, 7, 1], requires_grad=0, device=cpu) = onnx::Conv[dilations=[1, 1], group=1, kernel_shape=[3, 3], pads=[1, 1, 1, 1], strides=[1, 1]](%input.12, %6.weight, %6.bias) # /opt/conda/lib/python3.8/site-packages/torch/nn/modules/conv.py:443:0\n",
      "  %18 : Float(1, 784, strides=[784, 1], requires_grad=1, device=cpu) = onnx::Flatten[axis=1](%17) # /opt/conda/lib/python3.8/site-packages/torch/nn/modules/flatten.py:45:0\n",
      "  %input.16 : Float(1, 256, strides=[256, 1], requires_grad=1, device=cpu) = onnx::Gemm[alpha=1., beta=1., transB=1](%18, %8.weight, %8.bias) # /opt/conda/lib/python3.8/site-packages/torch/nn/modules/linear.py:103:0\n",
      "  %20 : Float(1, 256, strides=[256, 1], requires_grad=1, device=cpu) = onnx::Relu(%input.16) # /opt/conda/lib/python3.8/site-packages/torch/nn/functional.py:1442:0\n",
      "  %21 : Float(1, 10, strides=[10, 1], requires_grad=1, device=cpu) = onnx::Gemm[alpha=1., beta=1., transB=1](%20, %10.weight, %10.bias) # /opt/conda/lib/python3.8/site-packages/torch/nn/modules/linear.py:103:0\n",
      "  return (%21)\n",
      "\n"
     ]
    }
   ],
   "source": [
    "dummy_input = torch.randn((1, 1, 28, 28))\n",
    "torch.onnx.export(model, dummy_input, \"medium_ex.onnx\", verbose=True)"
   ]
  },
  {
   "cell_type": "code",
   "execution_count": null,
   "metadata": {},
   "outputs": [],
   "source": []
  }
 ],
 "metadata": {
  "kernelspec": {
   "display_name": "Python 3.8.12 ('base')",
   "language": "python",
   "name": "python3"
  },
  "language_info": {
   "codemirror_mode": {
    "name": "ipython",
    "version": 3
   },
   "file_extension": ".py",
   "mimetype": "text/x-python",
   "name": "python",
   "nbconvert_exporter": "python",
   "pygments_lexer": "ipython3",
   "version": "3.8.12"
  },
  "orig_nbformat": 4,
  "vscode": {
   "interpreter": {
    "hash": "d4d1e4263499bec80672ea0156c357c1ee493ec2b1c70f0acce89fc37c4a6abe"
   }
  }
 },
 "nbformat": 4,
 "nbformat_minor": 2
}
