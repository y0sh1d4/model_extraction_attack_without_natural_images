{
 "cells": [
  {
   "cell_type": "code",
   "execution_count": null,
   "metadata": {},
   "outputs": [],
   "source": [
    "# !pip install tf2onnx"
   ]
  },
  {
   "cell_type": "code",
   "execution_count": 12,
   "metadata": {},
   "outputs": [],
   "source": [
    "# Tensorflow to Pytorch\n",
    "import tensorflow as tf\n",
    "import importlib\n",
    "import sys\n",
    "sys.path.append(\"../models\")\n",
    "\n",
    "task_name = 'fashion_mnist'\n",
    "task_type = 'mnist'\n",
    "model_size = 'medium'"
   ]
  },
  {
   "cell_type": "code",
   "execution_count": 13,
   "metadata": {},
   "outputs": [
    {
     "name": "stderr",
     "output_type": "stream",
     "text": [
      "WARNING:absl:Function `_wrapped_model` contains input name(s) Conv1_input with unsupported characters which will be renamed to conv1_input in the SavedModel.\n",
      "WARNING:absl:Found untraced functions such as _jit_compiled_convolution_op, _jit_compiled_convolution_op while saving (showing 2 of 2). These functions will not be directly callable after loading.\n"
     ]
    },
    {
     "name": "stdout",
     "output_type": "stream",
     "text": [
      "INFO:tensorflow:Assets written to: ./fashion_mnist/medium/assets\n"
     ]
    },
    {
     "name": "stderr",
     "output_type": "stream",
     "text": [
      "INFO:tensorflow:Assets written to: ./fashion_mnist/medium/assets\n"
     ]
    }
   ],
   "source": [
    "model = getattr(\n",
    "    importlib.import_module(task_type),\n",
    "    model_size\n",
    "    )()\n",
    "model.load_weights(os.path.join('.', f'{task_name}', f'{model_size}.h5'))\n",
    "tf.saved_model.save(model, os.path.join('.', f'{task_name}', f'{model_size}'))"
   ]
  },
  {
   "cell_type": "code",
   "execution_count": 14,
   "metadata": {},
   "outputs": [
    {
     "name": "stdout",
     "output_type": "stream",
     "text": [
      "2022-07-13 04:44:00.146950: I tensorflow/core/util/util.cc:169] oneDNN custom operations are on. You may see slightly different numerical results due to floating-point round-off errors from different computation orders. To turn them off, set the environment variable `TF_ENABLE_ONEDNN_OPTS=0`.\n",
      "/usr/lib/python3.8/runpy.py:127: RuntimeWarning: 'tf2onnx.convert' found in sys.modules after import of package 'tf2onnx', but prior to execution of 'tf2onnx.convert'; this may result in unpredictable behaviour\n",
      "  warn(RuntimeWarning(msg))\n",
      "2022-07-13 04:44:01.556120: I tensorflow/core/platform/cpu_feature_guard.cc:193] This TensorFlow binary is optimized with oneAPI Deep Neural Network Library (oneDNN) to use the following CPU instructions in performance-critical operations:  AVX2 AVX512F AVX512_VNNI FMA\n",
      "To enable them in other operations, rebuild TensorFlow with the appropriate compiler flags.\n",
      "2022-07-13 04:44:02.086547: I tensorflow/core/common_runtime/gpu/gpu_device.cc:1532] Created device /job:localhost/replica:0/task:0/device:GPU:0 with 943 MB memory:  -> device: 0, name: NVIDIA RTX A5000, pci bus id: 0000:18:00.0, compute capability: 8.6\n",
      "2022-07-13 04:44:02,090 - WARNING - '--tag' not specified for saved_model. Using --tag serve\n",
      "2022-07-13 04:44:02,237 - INFO - Signatures found in model: [serving_default].\n",
      "2022-07-13 04:44:02,237 - WARNING - '--signature_def' not specified, using first signature: serving_default\n",
      "2022-07-13 04:44:02,237 - INFO - Output names: ['FC1']\n",
      "2022-07-13 04:44:02.238753: I tensorflow/core/grappler/devices.cc:66] Number of eligible GPUs (core count >= 8, compute capability >= 0.0): 1\n",
      "2022-07-13 04:44:02.238917: I tensorflow/core/grappler/clusters/single_machine.cc:358] Starting new session\n",
      "2022-07-13 04:44:02.240414: I tensorflow/core/common_runtime/gpu/gpu_device.cc:1532] Created device /job:localhost/replica:0/task:0/device:GPU:0 with 943 MB memory:  -> device: 0, name: NVIDIA RTX A5000, pci bus id: 0000:18:00.0, compute capability: 8.6\n",
      "2022-07-13 04:44:02.315674: I tensorflow/core/common_runtime/gpu/gpu_device.cc:1532] Created device /job:localhost/replica:0/task:0/device:GPU:0 with 943 MB memory:  -> device: 0, name: NVIDIA RTX A5000, pci bus id: 0000:18:00.0, compute capability: 8.6\n",
      "WARNING:tensorflow:From /usr/local/lib/python3.8/dist-packages/tf2onnx/tf_loader.py:711: extract_sub_graph (from tensorflow.python.framework.graph_util_impl) is deprecated and will be removed in a future version.\n",
      "Instructions for updating:\n",
      "Use `tf.compat.v1.graph_util.extract_sub_graph`\n",
      "2022-07-13 04:44:02,321 - WARNING - From /usr/local/lib/python3.8/dist-packages/tf2onnx/tf_loader.py:711: extract_sub_graph (from tensorflow.python.framework.graph_util_impl) is deprecated and will be removed in a future version.\n",
      "Instructions for updating:\n",
      "Use `tf.compat.v1.graph_util.extract_sub_graph`\n",
      "2022-07-13 04:44:02.323228: I tensorflow/core/grappler/devices.cc:66] Number of eligible GPUs (core count >= 8, compute capability >= 0.0): 1\n",
      "2022-07-13 04:44:02.323337: I tensorflow/core/grappler/clusters/single_machine.cc:358] Starting new session\n",
      "2022-07-13 04:44:02.324589: I tensorflow/core/common_runtime/gpu/gpu_device.cc:1532] Created device /job:localhost/replica:0/task:0/device:GPU:0 with 943 MB memory:  -> device: 0, name: NVIDIA RTX A5000, pci bus id: 0000:18:00.0, compute capability: 8.6\n",
      "2022-07-13 04:44:02,340 - INFO - Using tensorflow=2.9.0, onnx=1.12.0, tf2onnx=1.11.1/1915fb\n",
      "2022-07-13 04:44:02,340 - INFO - Using opset <onnx, 13>\n",
      "2022-07-13 04:44:02,350 - INFO - Computed 0 values for constant folding\n",
      "2022-07-13 04:44:02,365 - INFO - Optimizing ONNX model\n",
      "2022-07-13 04:44:02,405 - INFO - After optimization: Cast -1 (1->0), Const +1 (7->8), Identity -5 (5->0), Reshape +1 (1->2), Transpose -7 (8->1)\n",
      "2022-07-13 04:44:02,406 - INFO - \n",
      "2022-07-13 04:44:02,406 - INFO - Successfully converted TensorFlow model ./fashion_mnist/medium to ONNX\n",
      "2022-07-13 04:44:02,406 - INFO - Model inputs: ['Conv1_input']\n",
      "2022-07-13 04:44:02,406 - INFO - Model outputs: ['FC1']\n",
      "2022-07-13 04:44:02,406 - INFO - ONNX model is saved at ./fashion_mnist/medium.onnx\n"
     ]
    }
   ],
   "source": [
    "saved_model = os.path.join('.', task_name, model_size)\n",
    "out_model = os.path.join('.', task_name, model_size+'.onnx')\n",
    "!python -m tf2onnx.convert --saved-model $saved_model --output $out_model"
   ]
  },
  {
   "cell_type": "code",
   "execution_count": 1,
   "metadata": {},
   "outputs": [],
   "source": [
    "import tensorflow as tf\n",
    "import numpy as np\n",
    "import importlib\n",
    "import sys\n",
    "sys.path.append(\"..\")"
   ]
  },
  {
   "cell_type": "code",
   "execution_count": 4,
   "metadata": {},
   "outputs": [],
   "source": [
    "task_name = 'mnist'\n",
    "model_size = 'medium'"
   ]
  },
  {
   "cell_type": "code",
   "execution_count": 5,
   "metadata": {},
   "outputs": [],
   "source": [
    "def dataset_screening(\n",
    "    victim_model: tf.keras.Model,\n",
    "    dataset: tf.data.Dataset\n",
    ") -> tf.data.Dataset:\n",
    "\n",
    "    correct_x = []\n",
    "    correct_t = []\n",
    "    for batch in dataset:\n",
    "        x, t = batch\n",
    "        t = t.numpy()\n",
    "        y = np.argmax(victim_model(x, training=False).numpy(), axis=1)\n",
    "        idx = (t == y)\n",
    "        correct_x.append(x.numpy()[idx])\n",
    "        correct_t.append(t[idx])\n",
    "    correct_x = np.concatenate(correct_x, axis=0)\n",
    "    correct_t = np.concatenate(correct_t, axis=0)\n",
    "\n",
    "    return tf.data.Dataset.from_tensor_slices((correct_x, correct_t))"
   ]
  },
  {
   "cell_type": "code",
   "execution_count": 6,
   "metadata": {},
   "outputs": [],
   "source": [
    "cfg = {\n",
    "    'task_name': task_name,\n",
    "    'ds_path':'/dataset/'+task_name,\n",
    "    'batch_size':256\n",
    "    }"
   ]
  },
  {
   "cell_type": "code",
   "execution_count": 9,
   "metadata": {},
   "outputs": [],
   "source": [
    "_, ds_test = getattr(\n",
    "    importlib.import_module('datasets.'+task_type),\n",
    "    'get_dataset'\n",
    "    )(cfg)"
   ]
  },
  {
   "cell_type": "code",
   "execution_count": 10,
   "metadata": {},
   "outputs": [],
   "source": [
    "# Load Victim model\n",
    "victim_model = getattr(\n",
    "    importlib.import_module('models.'+task_type),\n",
    "    model_size\n",
    "    )()\n",
    "victim_model.load_weights(os.path.join(\n",
    "        '.',\n",
    "        task_name,\n",
    "        model_size+'.h5'\n",
    "    ))"
   ]
  },
  {
   "cell_type": "code",
   "execution_count": 12,
   "metadata": {},
   "outputs": [],
   "source": [
    "# Datasetのスクリーニング\n",
    "ds_test = dataset_screening(\n",
    "    victim_model,\n",
    "    ds_test\n",
    ").take(5000)\n",
    "x = np.concatenate([[v[0].numpy()] for v in ds_test], axis=0)\n",
    "t = np.concatenate([[v[1]] for v in ds_test])\n",
    "np.savez(os.path.join('.', task_name, 'ds_test.npz'), x=x, t=t)"
   ]
  },
  {
   "cell_type": "code",
   "execution_count": null,
   "metadata": {},
   "outputs": [],
   "source": []
  }
 ],
 "metadata": {
  "kernelspec": {
   "display_name": "Python 3",
   "language": "python",
   "name": "python3"
  },
  "language_info": {
   "codemirror_mode": {
    "name": "ipython",
    "version": 3
   },
   "file_extension": ".py",
   "mimetype": "text/x-python",
   "name": "python",
   "nbconvert_exporter": "python",
   "pygments_lexer": "ipython3",
   "version": "3.8.10"
  },
  "orig_nbformat": 4
 },
 "nbformat": 4,
 "nbformat_minor": 2
}
